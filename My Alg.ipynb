{
 "cells": [
  {
   "cell_type": "code",
   "execution_count": 96,
   "metadata": {
    "collapsed": false
   },
   "outputs": [
    {
     "data": {
      "text/plain": [
       "SCS.SCSSolver(Any[(:verbose,0)])"
      ]
     },
     "execution_count": 96,
     "metadata": {},
     "output_type": "execute_result"
    }
   ],
   "source": [
    "using Convex, SCS, Images, DataFrames, Colors, FixedPointNumbers, ImageView\n",
    "set_default_solver(SCSSolver(verbose=0)) "
   ]
  },
  {
   "cell_type": "code",
   "execution_count": 83,
   "metadata": {
    "collapsed": false
   },
   "outputs": [],
   "source": [
    "k = 45\n",
    "trial = 2\n",
    "\n",
    "# load Data\n",
    "path = \"./HeadsAndTails/\"\n",
    "files = readdir(path)\n",
    "n = 100\n",
    "finalDim = (20,20)\n",
    "fileInd = rand(1:size(files,1),n)\n",
    "curfile = joinpath(path,files[1])\n",
    "temp = convert(Array{Float64,2},convert(Image{Gray},load(curfile)))\n",
    "temp = Images.imresize(temp,finalDim)\n",
    "dim = size(temp)\n",
    "D = zeros(prod(dim), n)\n",
    "D[:,1] = vec(temp)\n",
    "for i=2:n\n",
    "    curfile = joinpath(path,files[fileInd[i]])\n",
    "    temp = convert(Array{Float64,2},convert(Image{Gray},load(curfile)))\n",
    "    temp = Images.imresize(temp,finalDim)\n",
    "    D[:,i] = vec(temp)\n",
    "end\n",
    "\n",
    "# Normalize\n",
    "x_bar = zeros(size(D,1),1)\n",
    "for i =1:size(D,2)\n",
    "    x_bar = x_bar + D[:,i]\n",
    "end\n",
    "x_bar = x_bar/size(D,2)\n",
    "\n",
    "# Get residuals\n",
    "X_tilde = D - repmat(x_bar ,1,size(D,2))\n",
    "\n",
    "covm = X_tilde'*X_tilde\n",
    "U, S, V = svd(covm)\n",
    "Vk = zeros(size(V,1),k)\n",
    "Vk = V[:,1:k]\n",
    "Uk = X_tilde*Vk\n",
    "norms = sqrt(diag(Uk'*Uk))\n",
    "\n",
    "A = Uk./ repmat(norms',size(Uk,1),1)\n",
    "\n",
    "# Project\n",
    "Px = zeros(k,size(D,2))\n",
    "for i=1:n\n",
    "    Px[:,i] = A'*X_tilde[:,i]\n",
    "end\n",
    ";"
   ]
  },
  {
   "cell_type": "code",
   "execution_count": 84,
   "metadata": {
    "collapsed": false
   },
   "outputs": [
    {
     "name": "stderr",
     "output_type": "stream",
     "text": [
      "WARNING: Method definition projtest(Any, Any, Any, Any) in module Main at In[46]:2 overwritten at In[84]:2.\n"
     ]
    },
    {
     "data": {
      "text/plain": [
       "projtest (generic function with 2 methods)"
      ]
     },
     "execution_count": 84,
     "metadata": {},
     "output_type": "execute_result"
    }
   ],
   "source": [
    "function projtest(A,X,Px, threshold)\n",
    "    p = A'*vec(X)\n",
    "    n = size(Px,2)\n",
    "    fish = false\n",
    "    snorm = 0\n",
    "    for i=1:n\n",
    "        snorm+= norm(p-Px[:,i]) \n",
    "    end\n",
    "    anorm = snorm/n\n",
    "    if anorm <threshold\n",
    "        return true\n",
    "    else\n",
    "        return false\n",
    "    end\n",
    "end"
   ]
  },
  {
   "cell_type": "code",
   "execution_count": 85,
   "metadata": {
    "collapsed": false
   },
   "outputs": [],
   "source": [
    "testim = convert(Array{Float64,2},Images.imresize(convert(Image{Gray},load(\"./Test/test7.jpg\")), (240,240)))\n",
    "save(\"test1.png\",testim)"
   ]
  },
  {
   "cell_type": "code",
   "execution_count": 86,
   "metadata": {
    "collapsed": false
   },
   "outputs": [],
   "source": [
    "L = 240\n",
    "w = 20\n",
    "testOut = zeros(L,L)\n",
    "for i in 1:w:L-w+1\n",
    "    for j in 1:w:L-w+1\n",
    "        sample = testim[i:i+w-1,j:j+w-1]\n",
    "        fish = projtest(A,sample,Px,10)\n",
    "        if fish\n",
    "            testOut[i:i+w-1,j:j+w-1] = 1\n",
    "        end\n",
    "    end\n",
    "end\n",
    "    \n",
    "grayim(testOut)\n",
    "r = round(Int,prod(size(testOut)))\n",
    "for i = 1:r\n",
    "    if testOut[i] == 1\n",
    "        testOut[i]=testim[i]\n",
    "    end\n",
    "end\n",
    "grayim(testOut)\n",
    "save(\"pca1.png\",testOut)        "
   ]
  },
  {
   "cell_type": "code",
   "execution_count": 87,
   "metadata": {
    "collapsed": false
   },
   "outputs": [],
   "source": [
    "testim = convert(Array{Float64,2},Images.imresize(convert(Image{Gray},load(\"./Test/test6.jpg\")), (240,240)))\n",
    "save(\"test2.png\",testim)"
   ]
  },
  {
   "cell_type": "code",
   "execution_count": 88,
   "metadata": {
    "collapsed": false
   },
   "outputs": [],
   "source": [
    "L = 240\n",
    "w = 20\n",
    "testOut = zeros(L,L)\n",
    "for i in 1:w:L-w+1\n",
    "    for j in 1:w:L-w+1\n",
    "        sample = testim[i:i+w-1,j:j+w-1]\n",
    "        fish = projtest(A,sample,Px,10)\n",
    "        if fish\n",
    "            testOut[i:i+w-1,j:j+w-1] = 1\n",
    "        end\n",
    "    end\n",
    "end\n",
    "    \n",
    "grayim(testOut)\n",
    "r = round(Int,prod(size(testOut)))\n",
    "for i = 1:r\n",
    "    if testOut[i] == 1\n",
    "        testOut[i]=testim[i]\n",
    "    end\n",
    "end\n",
    "grayim(testOut)\n",
    "save(\"pca2.png\",testOut)        "
   ]
  },
  {
   "cell_type": "code",
   "execution_count": 93,
   "metadata": {
    "collapsed": false
   },
   "outputs": [],
   "source": [
    "testim = convert(Array{Float64,2},Images.imresize(convert(Image{Gray},load(\"./Test/test3.jpg\")), (240,240)))\n",
    "save(\"test3.png\",testim)"
   ]
  },
  {
   "cell_type": "code",
   "execution_count": 90,
   "metadata": {
    "collapsed": false
   },
   "outputs": [],
   "source": [
    "L = 240\n",
    "w = 20\n",
    "testOut = zeros(L,L)\n",
    "for i in 1:w:L-w+1\n",
    "    for j in 1:w:L-w+1\n",
    "        sample = testim[i:i+w-1,j:j+w-1]\n",
    "        fish = projtest(A,sample,Px,10)\n",
    "        if fish\n",
    "            testOut[i:i+w-1,j:j+w-1] = 1\n",
    "        end\n",
    "    end\n",
    "end\n",
    "    \n",
    "grayim(testOut)\n",
    "r = round(Int,prod(size(testOut)))\n",
    "for i = 1:r\n",
    "    if testOut[i] == 1\n",
    "        testOut[i]=testim[i]\n",
    "    end\n",
    "end\n",
    "grayim(testOut)\n",
    "save(\"pca3.png\",testOut)"
   ]
  },
  {
   "cell_type": "code",
   "execution_count": 94,
   "metadata": {
    "collapsed": false
   },
   "outputs": [],
   "source": [
    "testim = convert(Array{Float64,2},Images.imresize(convert(Image{Gray},load(\"./Test/test1.jpg\")), (240,240)))\n",
    "save(\"test4.png\",testim)"
   ]
  },
  {
   "cell_type": "code",
   "execution_count": 92,
   "metadata": {
    "collapsed": false
   },
   "outputs": [],
   "source": [
    "L = 240\n",
    "w = 20\n",
    "testOut = zeros(L,L)\n",
    "for i in 1:w:L-w+1\n",
    "    for j in 1:w:L-w+1\n",
    "        sample = testim[i:i+w-1,j:j+w-1]\n",
    "        fish = projtest(A,sample,Px,10)\n",
    "        if fish\n",
    "            testOut[i:i+w-1,j:j+w-1] = 1\n",
    "        end\n",
    "    end\n",
    "end\n",
    "    \n",
    "grayim(testOut)\n",
    "r = round(Int,prod(size(testOut)))\n",
    "for i = 1:r\n",
    "    if testOut[i] == 1\n",
    "        testOut[i]=testim[i]\n",
    "    end\n",
    "end\n",
    "grayim(testOut)\n",
    "save(\"pca4.png\",testOut)        "
   ]
  },
  {
   "cell_type": "markdown",
   "metadata": {},
   "source": [
    "# Sparse Matrix "
   ]
  },
  {
   "cell_type": "code",
   "execution_count": 105,
   "metadata": {
    "collapsed": false
   },
   "outputs": [],
   "source": [
    "testim = convert(Array{Float64,2},Images.imresize(convert(Image{Gray},load(\"./Test/test7.jpg\")), (220,220)))\n",
    "Y = testim\n",
    "X = Variable(size(testim))\n",
    "E = Variable(size(testim))\n",
    "lam = 1/sqrt(maximum(size(Y)))\n",
    "\n",
    "problem = minimize(lam*norm(vec(X),1)+nuclearnorm(E),X+E==Y)\n",
    "solve!(problem)"
   ]
  },
  {
   "cell_type": "code",
   "execution_count": 107,
   "metadata": {
    "collapsed": false
   },
   "outputs": [],
   "source": [
    "grayim(X.value)\n",
    "save(\"sprs1.png\",map(Images.Clamp01NaN(X.value), X.value))"
   ]
  },
  {
   "cell_type": "code",
   "execution_count": 108,
   "metadata": {
    "collapsed": false
   },
   "outputs": [],
   "source": [
    "testim = convert(Array{Float64,2},Images.imresize(convert(Image{Gray},load(\"./Test/test6.jpg\")), (220,220)))\n",
    "Y = testim\n",
    "X = Variable(size(testim))\n",
    "E = Variable(size(testim))\n",
    "lam = 1/sqrt(maximum(size(Y)))\n",
    "\n",
    "problem = minimize(lam*norm(vec(X),1)+nuclearnorm(E),X+E==Y)\n",
    "solve!(problem)"
   ]
  },
  {
   "cell_type": "code",
   "execution_count": 109,
   "metadata": {
    "collapsed": false
   },
   "outputs": [],
   "source": [
    "grayim(X.value)\n",
    "save(\"sprs2.png\",map(Images.Clamp01NaN(X.value), X.value))"
   ]
  },
  {
   "cell_type": "code",
   "execution_count": 110,
   "metadata": {
    "collapsed": false
   },
   "outputs": [],
   "source": [
    "testim = convert(Array{Float64,2},Images.imresize(convert(Image{Gray},load(\"./Test/test3.jpg\")), (220,220)))\n",
    "Y = testim\n",
    "X = Variable(size(testim))\n",
    "E = Variable(size(testim))\n",
    "lam = 1/sqrt(maximum(size(Y)))\n",
    "\n",
    "problem = minimize(lam*norm(vec(X),1)+nuclearnorm(E),X+E==Y)\n",
    "solve!(problem)"
   ]
  },
  {
   "cell_type": "code",
   "execution_count": 111,
   "metadata": {
    "collapsed": false
   },
   "outputs": [],
   "source": [
    "grayim(X.value)\n",
    "save(\"sprs3.png\",map(Images.Clamp01NaN(X.value), X.value))"
   ]
  },
  {
   "cell_type": "code",
   "execution_count": 112,
   "metadata": {
    "collapsed": false
   },
   "outputs": [],
   "source": [
    "testim = convert(Array{Float64,2},Images.imresize(convert(Image{Gray},load(\"./Test/test1.jpg\")), (220,220)))\n",
    "Y = testim\n",
    "X = Variable(size(testim))\n",
    "E = Variable(size(testim))\n",
    "lam = 1/sqrt(maximum(size(Y)))\n",
    "\n",
    "problem = minimize(lam*norm(vec(X),1)+nuclearnorm(E),X+E==Y)\n",
    "solve!(problem)"
   ]
  },
  {
   "cell_type": "code",
   "execution_count": 113,
   "metadata": {
    "collapsed": false
   },
   "outputs": [],
   "source": [
    "grayim(X.value)\n",
    "save(\"sprs4.png\",map(Images.Clamp01NaN(X.value), X.value))"
   ]
  },
  {
   "cell_type": "code",
   "execution_count": null,
   "metadata": {
    "collapsed": true
   },
   "outputs": [],
   "source": []
  }
 ],
 "metadata": {
  "kernelspec": {
   "display_name": "Julia 0.4.7",
   "language": "julia",
   "name": "julia-0.4"
  },
  "language_info": {
   "file_extension": ".jl",
   "mimetype": "application/julia",
   "name": "julia",
   "version": "0.5.0"
  }
 },
 "nbformat": 4,
 "nbformat_minor": 2
}
